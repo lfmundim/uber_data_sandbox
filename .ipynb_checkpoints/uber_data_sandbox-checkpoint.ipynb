{
 "cells": [
  {
   "cell_type": "code",
   "execution_count": 1,
   "id": "5be4f718",
   "metadata": {},
   "outputs": [],
   "source": [
    "import pandas as pd\n",
    "import datetime"
   ]
  },
  {
   "cell_type": "code",
   "execution_count": 2,
   "id": "9afc8cc0",
   "metadata": {},
   "outputs": [
    {
     "data": {
      "text/html": [
       "<div>\n",
       "<style scoped>\n",
       "    .dataframe tbody tr th:only-of-type {\n",
       "        vertical-align: middle;\n",
       "    }\n",
       "\n",
       "    .dataframe tbody tr th {\n",
       "        vertical-align: top;\n",
       "    }\n",
       "\n",
       "    .dataframe thead th {\n",
       "        text-align: right;\n",
       "    }\n",
       "</style>\n",
       "<table border=\"1\" class=\"dataframe\">\n",
       "  <thead>\n",
       "    <tr style=\"text-align: right;\">\n",
       "      <th></th>\n",
       "      <th>City</th>\n",
       "      <th>Product Type</th>\n",
       "      <th>Trip or Order Status</th>\n",
       "      <th>Request Time</th>\n",
       "      <th>Begin Trip Time</th>\n",
       "      <th>Dropoff Time</th>\n",
       "      <th>Distance (miles)</th>\n",
       "      <th>Fare Amount</th>\n",
       "      <th>Fare Currency</th>\n",
       "    </tr>\n",
       "  </thead>\n",
       "  <tbody>\n",
       "    <tr>\n",
       "      <th>0</th>\n",
       "      <td>493</td>\n",
       "      <td>VIP</td>\n",
       "      <td>COMPLETED</td>\n",
       "      <td>2022-02-12 22:44:54 +0000 UTC</td>\n",
       "      <td>2022-02-12 22:53:50 +0000 UTC</td>\n",
       "      <td>2022-02-12 23:16:50 +0000 UTC</td>\n",
       "      <td>5.985833</td>\n",
       "      <td>24.90</td>\n",
       "      <td>BRL</td>\n",
       "    </tr>\n",
       "    <tr>\n",
       "      <th>1</th>\n",
       "      <td>493</td>\n",
       "      <td>VIP</td>\n",
       "      <td>COMPLETED</td>\n",
       "      <td>2022-01-15 22:38:06 +0000 UTC</td>\n",
       "      <td>2022-01-15 22:45:41 +0000 UTC</td>\n",
       "      <td>2022-01-15 22:59:23 +0000 UTC</td>\n",
       "      <td>5.919458</td>\n",
       "      <td>19.92</td>\n",
       "      <td>BRL</td>\n",
       "    </tr>\n",
       "    <tr>\n",
       "      <th>2</th>\n",
       "      <td>493</td>\n",
       "      <td>VIP</td>\n",
       "      <td>COMPLETED</td>\n",
       "      <td>2022-01-10 15:55:33 +0000 UTC</td>\n",
       "      <td>2022-01-10 16:03:45 +0000 UTC</td>\n",
       "      <td>2022-01-10 16:10:47 +0000 UTC</td>\n",
       "      <td>1.378521</td>\n",
       "      <td>9.05</td>\n",
       "      <td>BRL</td>\n",
       "    </tr>\n",
       "    <tr>\n",
       "      <th>3</th>\n",
       "      <td>458</td>\n",
       "      <td>UberX</td>\n",
       "      <td>COMPLETED</td>\n",
       "      <td>2021-12-04 18:54:42 +0000 UTC</td>\n",
       "      <td>2021-12-04 19:06:28 +0000 UTC</td>\n",
       "      <td>2021-12-04 19:21:31 +0000 UTC</td>\n",
       "      <td>2.433708</td>\n",
       "      <td>16.91</td>\n",
       "      <td>BRL</td>\n",
       "    </tr>\n",
       "    <tr>\n",
       "      <th>4</th>\n",
       "      <td>458</td>\n",
       "      <td>UberX</td>\n",
       "      <td>CANCELED</td>\n",
       "      <td>2021-12-04 14:54:34 +0000 UTC</td>\n",
       "      <td>1970-01-01 00:00:00 +0000 UTC</td>\n",
       "      <td>1970-01-01 00:00:00 +0000 UTC</td>\n",
       "      <td>0.000000</td>\n",
       "      <td>0.00</td>\n",
       "      <td>BRL</td>\n",
       "    </tr>\n",
       "  </tbody>\n",
       "</table>\n",
       "</div>"
      ],
      "text/plain": [
       "   City Product Type Trip or Order Status                   Request Time  \\\n",
       "0   493          VIP            COMPLETED  2022-02-12 22:44:54 +0000 UTC   \n",
       "1   493          VIP            COMPLETED  2022-01-15 22:38:06 +0000 UTC   \n",
       "2   493          VIP            COMPLETED  2022-01-10 15:55:33 +0000 UTC   \n",
       "3   458        UberX            COMPLETED  2021-12-04 18:54:42 +0000 UTC   \n",
       "4   458        UberX             CANCELED  2021-12-04 14:54:34 +0000 UTC   \n",
       "\n",
       "                 Begin Trip Time                   Dropoff Time  \\\n",
       "0  2022-02-12 22:53:50 +0000 UTC  2022-02-12 23:16:50 +0000 UTC   \n",
       "1  2022-01-15 22:45:41 +0000 UTC  2022-01-15 22:59:23 +0000 UTC   \n",
       "2  2022-01-10 16:03:45 +0000 UTC  2022-01-10 16:10:47 +0000 UTC   \n",
       "3  2021-12-04 19:06:28 +0000 UTC  2021-12-04 19:21:31 +0000 UTC   \n",
       "4  1970-01-01 00:00:00 +0000 UTC  1970-01-01 00:00:00 +0000 UTC   \n",
       "\n",
       "   Distance (miles)  Fare Amount Fare Currency  \n",
       "0          5.985833        24.90           BRL  \n",
       "1          5.919458        19.92           BRL  \n",
       "2          1.378521         9.05           BRL  \n",
       "3          2.433708        16.91           BRL  \n",
       "4          0.000000         0.00           BRL  "
      ]
     },
     "execution_count": 2,
     "metadata": {},
     "output_type": "execute_result"
    }
   ],
   "source": [
    "df = pd.read_csv('trips_data.csv')\n",
    "df.head()"
   ]
  },
  {
   "cell_type": "markdown",
   "id": "af509105",
   "metadata": {},
   "source": [
    "What Product Type categories are there?"
   ]
  },
  {
   "cell_type": "code",
   "execution_count": 3,
   "id": "e51a3d8f",
   "metadata": {},
   "outputs": [
    {
     "data": {
      "text/plain": [
       "{'Black',\n",
       " 'Black Car',\n",
       " 'Comfort',\n",
       " 'Flash',\n",
       " 'Green',\n",
       " 'Select',\n",
       " 'Táxi Promo',\n",
       " 'UberEATS Marketplace',\n",
       " 'UberX',\n",
       " 'UberX Promo',\n",
       " 'VIP',\n",
       " nan,\n",
       " 'uberX',\n",
       " 'uberx'}"
      ]
     },
     "execution_count": 3,
     "metadata": {},
     "output_type": "execute_result"
    }
   ],
   "source": [
    "set(df['Product Type'])"
   ]
  },
  {
   "cell_type": "markdown",
   "id": "e0537347",
   "metadata": {},
   "source": [
    "What is Uber Green?"
   ]
  },
  {
   "cell_type": "code",
   "execution_count": 4,
   "id": "fcb6f151",
   "metadata": {},
   "outputs": [
    {
     "data": {
      "text/html": [
       "<div>\n",
       "<style scoped>\n",
       "    .dataframe tbody tr th:only-of-type {\n",
       "        vertical-align: middle;\n",
       "    }\n",
       "\n",
       "    .dataframe tbody tr th {\n",
       "        vertical-align: top;\n",
       "    }\n",
       "\n",
       "    .dataframe thead th {\n",
       "        text-align: right;\n",
       "    }\n",
       "</style>\n",
       "<table border=\"1\" class=\"dataframe\">\n",
       "  <thead>\n",
       "    <tr style=\"text-align: right;\">\n",
       "      <th></th>\n",
       "      <th>City</th>\n",
       "      <th>Product Type</th>\n",
       "      <th>Trip or Order Status</th>\n",
       "      <th>Request Time</th>\n",
       "      <th>Begin Trip Time</th>\n",
       "      <th>Dropoff Time</th>\n",
       "      <th>Distance (miles)</th>\n",
       "      <th>Fare Amount</th>\n",
       "      <th>Fare Currency</th>\n",
       "    </tr>\n",
       "  </thead>\n",
       "  <tbody>\n",
       "    <tr>\n",
       "      <th>186</th>\n",
       "      <td>471</td>\n",
       "      <td>Green</td>\n",
       "      <td>CANCELED</td>\n",
       "      <td>2019-07-26 21:04:21 +0000 UTC</td>\n",
       "      <td>1970-01-01 00:00:00 +0000 UTC</td>\n",
       "      <td>1970-01-01 00:00:00 +0000 UTC</td>\n",
       "      <td>0.0</td>\n",
       "      <td>0.0</td>\n",
       "      <td>EUR</td>\n",
       "    </tr>\n",
       "  </tbody>\n",
       "</table>\n",
       "</div>"
      ],
      "text/plain": [
       "     City Product Type Trip or Order Status                   Request Time  \\\n",
       "186   471        Green             CANCELED  2019-07-26 21:04:21 +0000 UTC   \n",
       "\n",
       "                   Begin Trip Time                   Dropoff Time  \\\n",
       "186  1970-01-01 00:00:00 +0000 UTC  1970-01-01 00:00:00 +0000 UTC   \n",
       "\n",
       "     Distance (miles)  Fare Amount Fare Currency  \n",
       "186               0.0          0.0           EUR  "
      ]
     },
     "execution_count": 4,
     "metadata": {},
     "output_type": "execute_result"
    }
   ],
   "source": [
    "df[df['Product Type'] == 'Green']"
   ]
  },
  {
   "cell_type": "markdown",
   "id": "30486c7e",
   "metadata": {},
   "source": [
    "Looks like Uber Green can be ignored.\n",
    "\n",
    "Uber trips would be Black, Black Car, Comfort, Select, Táxi Promo, UberX, UberX Promo, VIP, uberX and uberx\n",
    "\n",
    "what trips were set as `nan` though?"
   ]
  },
  {
   "cell_type": "code",
   "execution_count": 5,
   "id": "901cb77c",
   "metadata": {},
   "outputs": [
    {
     "data": {
      "text/html": [
       "<div>\n",
       "<style scoped>\n",
       "    .dataframe tbody tr th:only-of-type {\n",
       "        vertical-align: middle;\n",
       "    }\n",
       "\n",
       "    .dataframe tbody tr th {\n",
       "        vertical-align: top;\n",
       "    }\n",
       "\n",
       "    .dataframe thead th {\n",
       "        text-align: right;\n",
       "    }\n",
       "</style>\n",
       "<table border=\"1\" class=\"dataframe\">\n",
       "  <thead>\n",
       "    <tr style=\"text-align: right;\">\n",
       "      <th></th>\n",
       "      <th>City</th>\n",
       "      <th>Product Type</th>\n",
       "      <th>Trip or Order Status</th>\n",
       "      <th>Request Time</th>\n",
       "      <th>Begin Trip Time</th>\n",
       "      <th>Dropoff Time</th>\n",
       "      <th>Distance (miles)</th>\n",
       "      <th>Fare Amount</th>\n",
       "      <th>Fare Currency</th>\n",
       "    </tr>\n",
       "  </thead>\n",
       "  <tbody>\n",
       "    <tr>\n",
       "      <th>50</th>\n",
       "      <td>493</td>\n",
       "      <td>NaN</td>\n",
       "      <td>UNFULFILLED</td>\n",
       "      <td>2021-08-21 19:35:48 +0000 UTC</td>\n",
       "      <td>1970-01-01 00:00:00 +0000 UTC</td>\n",
       "      <td>1970-01-01 00:00:00 +0000 UTC</td>\n",
       "      <td>0.0</td>\n",
       "      <td>0.0</td>\n",
       "      <td>BRL</td>\n",
       "    </tr>\n",
       "    <tr>\n",
       "      <th>53</th>\n",
       "      <td>493</td>\n",
       "      <td>NaN</td>\n",
       "      <td>UNFULFILLED</td>\n",
       "      <td>2021-08-19 20:09:12 +0000 UTC</td>\n",
       "      <td>1970-01-01 00:00:00 +0000 UTC</td>\n",
       "      <td>1970-01-01 00:00:00 +0000 UTC</td>\n",
       "      <td>0.0</td>\n",
       "      <td>0.0</td>\n",
       "      <td>BRL</td>\n",
       "    </tr>\n",
       "    <tr>\n",
       "      <th>158</th>\n",
       "      <td>493</td>\n",
       "      <td>NaN</td>\n",
       "      <td>UNFULFILLED</td>\n",
       "      <td>2020-01-23 02:57:16 +0000 UTC</td>\n",
       "      <td>1970-01-01 00:00:00 +0000 UTC</td>\n",
       "      <td>1970-01-01 00:00:00 +0000 UTC</td>\n",
       "      <td>0.0</td>\n",
       "      <td>0.0</td>\n",
       "      <td>BRL</td>\n",
       "    </tr>\n",
       "    <tr>\n",
       "      <th>211</th>\n",
       "      <td>493</td>\n",
       "      <td>NaN</td>\n",
       "      <td>UNFULFILLED</td>\n",
       "      <td>2019-04-08 01:20:44 +0000 UTC</td>\n",
       "      <td>1970-01-01 00:00:00 +0000 UTC</td>\n",
       "      <td>1970-01-01 00:00:00 +0000 UTC</td>\n",
       "      <td>0.0</td>\n",
       "      <td>0.0</td>\n",
       "      <td>BRL</td>\n",
       "    </tr>\n",
       "    <tr>\n",
       "      <th>394</th>\n",
       "      <td>493</td>\n",
       "      <td>NaN</td>\n",
       "      <td>UNFULFILLED</td>\n",
       "      <td>2015-07-16 22:00:23 +0000 UTC</td>\n",
       "      <td>1970-01-01 00:00:00 +0000 UTC</td>\n",
       "      <td>1970-01-01 00:00:00 +0000 UTC</td>\n",
       "      <td>0.0</td>\n",
       "      <td>0.0</td>\n",
       "      <td>NaN</td>\n",
       "    </tr>\n",
       "    <tr>\n",
       "      <th>396</th>\n",
       "      <td>493</td>\n",
       "      <td>NaN</td>\n",
       "      <td>UNFULFILLED</td>\n",
       "      <td>2015-06-28 01:17:32 +0000 UTC</td>\n",
       "      <td>1970-01-01 00:00:00 +0000 UTC</td>\n",
       "      <td>1970-01-01 00:00:00 +0000 UTC</td>\n",
       "      <td>0.0</td>\n",
       "      <td>0.0</td>\n",
       "      <td>NaN</td>\n",
       "    </tr>\n",
       "    <tr>\n",
       "      <th>397</th>\n",
       "      <td>493</td>\n",
       "      <td>NaN</td>\n",
       "      <td>UNFULFILLED</td>\n",
       "      <td>2015-06-28 01:17:07 +0000 UTC</td>\n",
       "      <td>1970-01-01 00:00:00 +0000 UTC</td>\n",
       "      <td>1970-01-01 00:00:00 +0000 UTC</td>\n",
       "      <td>0.0</td>\n",
       "      <td>0.0</td>\n",
       "      <td>NaN</td>\n",
       "    </tr>\n",
       "  </tbody>\n",
       "</table>\n",
       "</div>"
      ],
      "text/plain": [
       "     City Product Type Trip or Order Status                   Request Time  \\\n",
       "50    493          NaN          UNFULFILLED  2021-08-21 19:35:48 +0000 UTC   \n",
       "53    493          NaN          UNFULFILLED  2021-08-19 20:09:12 +0000 UTC   \n",
       "158   493          NaN          UNFULFILLED  2020-01-23 02:57:16 +0000 UTC   \n",
       "211   493          NaN          UNFULFILLED  2019-04-08 01:20:44 +0000 UTC   \n",
       "394   493          NaN          UNFULFILLED  2015-07-16 22:00:23 +0000 UTC   \n",
       "396   493          NaN          UNFULFILLED  2015-06-28 01:17:32 +0000 UTC   \n",
       "397   493          NaN          UNFULFILLED  2015-06-28 01:17:07 +0000 UTC   \n",
       "\n",
       "                   Begin Trip Time                   Dropoff Time  \\\n",
       "50   1970-01-01 00:00:00 +0000 UTC  1970-01-01 00:00:00 +0000 UTC   \n",
       "53   1970-01-01 00:00:00 +0000 UTC  1970-01-01 00:00:00 +0000 UTC   \n",
       "158  1970-01-01 00:00:00 +0000 UTC  1970-01-01 00:00:00 +0000 UTC   \n",
       "211  1970-01-01 00:00:00 +0000 UTC  1970-01-01 00:00:00 +0000 UTC   \n",
       "394  1970-01-01 00:00:00 +0000 UTC  1970-01-01 00:00:00 +0000 UTC   \n",
       "396  1970-01-01 00:00:00 +0000 UTC  1970-01-01 00:00:00 +0000 UTC   \n",
       "397  1970-01-01 00:00:00 +0000 UTC  1970-01-01 00:00:00 +0000 UTC   \n",
       "\n",
       "     Distance (miles)  Fare Amount Fare Currency  \n",
       "50                0.0          0.0           BRL  \n",
       "53                0.0          0.0           BRL  \n",
       "158               0.0          0.0           BRL  \n",
       "211               0.0          0.0           BRL  \n",
       "394               0.0          0.0           NaN  \n",
       "396               0.0          0.0           NaN  \n",
       "397               0.0          0.0           NaN  "
      ]
     },
     "execution_count": 5,
     "metadata": {},
     "output_type": "execute_result"
    }
   ],
   "source": [
    "df[~df['Product Type'].isin(['Black','Black Car', 'Comfort', 'Flash', 'Green', 'Select', 'Táxi Promo', 'UberEATS Marketplace', 'UberX', 'UberX Promo', 'VIP', 'uberX','uberx'])]"
   ]
  },
  {
   "cell_type": "markdown",
   "id": "3b2a089d",
   "metadata": {},
   "source": [
    "Okay so `NaN` trips are unfulfilled trips. We can ignore those for now."
   ]
  },
  {
   "cell_type": "markdown",
   "id": "f2d86e7c",
   "metadata": {},
   "source": [
    "Filtering out UberEats and Unfulfilled trips"
   ]
  },
  {
   "cell_type": "code",
   "execution_count": 6,
   "id": "d161257a",
   "metadata": {},
   "outputs": [
    {
     "data": {
      "text/html": [
       "<div>\n",
       "<style scoped>\n",
       "    .dataframe tbody tr th:only-of-type {\n",
       "        vertical-align: middle;\n",
       "    }\n",
       "\n",
       "    .dataframe tbody tr th {\n",
       "        vertical-align: top;\n",
       "    }\n",
       "\n",
       "    .dataframe thead th {\n",
       "        text-align: right;\n",
       "    }\n",
       "</style>\n",
       "<table border=\"1\" class=\"dataframe\">\n",
       "  <thead>\n",
       "    <tr style=\"text-align: right;\">\n",
       "      <th></th>\n",
       "      <th>City</th>\n",
       "      <th>Product Type</th>\n",
       "      <th>Trip or Order Status</th>\n",
       "      <th>Request Time</th>\n",
       "      <th>Begin Trip Time</th>\n",
       "      <th>Dropoff Time</th>\n",
       "      <th>Distance (miles)</th>\n",
       "      <th>Fare Amount</th>\n",
       "      <th>Fare Currency</th>\n",
       "    </tr>\n",
       "  </thead>\n",
       "  <tbody>\n",
       "    <tr>\n",
       "      <th>0</th>\n",
       "      <td>493</td>\n",
       "      <td>VIP</td>\n",
       "      <td>COMPLETED</td>\n",
       "      <td>2022-02-12 22:44:54 +0000 UTC</td>\n",
       "      <td>2022-02-12 22:53:50 +0000 UTC</td>\n",
       "      <td>2022-02-12 23:16:50 +0000 UTC</td>\n",
       "      <td>5.985833</td>\n",
       "      <td>24.90</td>\n",
       "      <td>BRL</td>\n",
       "    </tr>\n",
       "    <tr>\n",
       "      <th>1</th>\n",
       "      <td>493</td>\n",
       "      <td>VIP</td>\n",
       "      <td>COMPLETED</td>\n",
       "      <td>2022-01-15 22:38:06 +0000 UTC</td>\n",
       "      <td>2022-01-15 22:45:41 +0000 UTC</td>\n",
       "      <td>2022-01-15 22:59:23 +0000 UTC</td>\n",
       "      <td>5.919458</td>\n",
       "      <td>19.92</td>\n",
       "      <td>BRL</td>\n",
       "    </tr>\n",
       "    <tr>\n",
       "      <th>2</th>\n",
       "      <td>493</td>\n",
       "      <td>VIP</td>\n",
       "      <td>COMPLETED</td>\n",
       "      <td>2022-01-10 15:55:33 +0000 UTC</td>\n",
       "      <td>2022-01-10 16:03:45 +0000 UTC</td>\n",
       "      <td>2022-01-10 16:10:47 +0000 UTC</td>\n",
       "      <td>1.378521</td>\n",
       "      <td>9.05</td>\n",
       "      <td>BRL</td>\n",
       "    </tr>\n",
       "    <tr>\n",
       "      <th>3</th>\n",
       "      <td>458</td>\n",
       "      <td>UberX</td>\n",
       "      <td>COMPLETED</td>\n",
       "      <td>2021-12-04 18:54:42 +0000 UTC</td>\n",
       "      <td>2021-12-04 19:06:28 +0000 UTC</td>\n",
       "      <td>2021-12-04 19:21:31 +0000 UTC</td>\n",
       "      <td>2.433708</td>\n",
       "      <td>16.91</td>\n",
       "      <td>BRL</td>\n",
       "    </tr>\n",
       "    <tr>\n",
       "      <th>4</th>\n",
       "      <td>458</td>\n",
       "      <td>UberX</td>\n",
       "      <td>CANCELED</td>\n",
       "      <td>2021-12-04 14:54:34 +0000 UTC</td>\n",
       "      <td>1970-01-01 00:00:00 +0000 UTC</td>\n",
       "      <td>1970-01-01 00:00:00 +0000 UTC</td>\n",
       "      <td>0.000000</td>\n",
       "      <td>0.00</td>\n",
       "      <td>BRL</td>\n",
       "    </tr>\n",
       "    <tr>\n",
       "      <th>...</th>\n",
       "      <td>...</td>\n",
       "      <td>...</td>\n",
       "      <td>...</td>\n",
       "      <td>...</td>\n",
       "      <td>...</td>\n",
       "      <td>...</td>\n",
       "      <td>...</td>\n",
       "      <td>...</td>\n",
       "      <td>...</td>\n",
       "    </tr>\n",
       "    <tr>\n",
       "      <th>390</th>\n",
       "      <td>493</td>\n",
       "      <td>uberX</td>\n",
       "      <td>COMPLETED</td>\n",
       "      <td>2016-02-09 03:49:27 +0000 UTC</td>\n",
       "      <td>2016-02-09 03:51:13 +0000 UTC</td>\n",
       "      <td>2016-02-09 03:56:48 +0000 UTC</td>\n",
       "      <td>1.475351</td>\n",
       "      <td>10.99</td>\n",
       "      <td>BRL</td>\n",
       "    </tr>\n",
       "    <tr>\n",
       "      <th>391</th>\n",
       "      <td>493</td>\n",
       "      <td>Black Car</td>\n",
       "      <td>COMPLETED</td>\n",
       "      <td>2015-11-13 23:42:51 +0000 UTC</td>\n",
       "      <td>2015-11-13 23:47:00 +0000 UTC</td>\n",
       "      <td>2015-11-14 00:09:18 +0000 UTC</td>\n",
       "      <td>1.765607</td>\n",
       "      <td>17.00</td>\n",
       "      <td>BRL</td>\n",
       "    </tr>\n",
       "    <tr>\n",
       "      <th>392</th>\n",
       "      <td>493</td>\n",
       "      <td>Black Car</td>\n",
       "      <td>COMPLETED</td>\n",
       "      <td>2015-08-16 04:05:07 +0000 UTC</td>\n",
       "      <td>2015-08-16 04:23:04 +0000 UTC</td>\n",
       "      <td>2015-08-16 04:34:35 +0000 UTC</td>\n",
       "      <td>3.444544</td>\n",
       "      <td>30.00</td>\n",
       "      <td>BRL</td>\n",
       "    </tr>\n",
       "    <tr>\n",
       "      <th>393</th>\n",
       "      <td>493</td>\n",
       "      <td>Black Car</td>\n",
       "      <td>CANCELED</td>\n",
       "      <td>2015-07-16 22:01:52 +0000 UTC</td>\n",
       "      <td>1970-01-01 00:00:00 +0000 UTC</td>\n",
       "      <td>1970-01-01 00:00:00 +0000 UTC</td>\n",
       "      <td>0.000000</td>\n",
       "      <td>0.00</td>\n",
       "      <td>BRL</td>\n",
       "    </tr>\n",
       "    <tr>\n",
       "      <th>395</th>\n",
       "      <td>493</td>\n",
       "      <td>Black Car</td>\n",
       "      <td>COMPLETED</td>\n",
       "      <td>2015-07-08 23:45:54 +0000 UTC</td>\n",
       "      <td>2015-07-08 23:52:28 +0000 UTC</td>\n",
       "      <td>2015-07-09 00:03:57 +0000 UTC</td>\n",
       "      <td>1.604149</td>\n",
       "      <td>13.00</td>\n",
       "      <td>BRL</td>\n",
       "    </tr>\n",
       "  </tbody>\n",
       "</table>\n",
       "<p>354 rows × 9 columns</p>\n",
       "</div>"
      ],
      "text/plain": [
       "     City Product Type Trip or Order Status                   Request Time  \\\n",
       "0     493          VIP            COMPLETED  2022-02-12 22:44:54 +0000 UTC   \n",
       "1     493          VIP            COMPLETED  2022-01-15 22:38:06 +0000 UTC   \n",
       "2     493          VIP            COMPLETED  2022-01-10 15:55:33 +0000 UTC   \n",
       "3     458        UberX            COMPLETED  2021-12-04 18:54:42 +0000 UTC   \n",
       "4     458        UberX             CANCELED  2021-12-04 14:54:34 +0000 UTC   \n",
       "..    ...          ...                  ...                            ...   \n",
       "390   493        uberX            COMPLETED  2016-02-09 03:49:27 +0000 UTC   \n",
       "391   493    Black Car            COMPLETED  2015-11-13 23:42:51 +0000 UTC   \n",
       "392   493    Black Car            COMPLETED  2015-08-16 04:05:07 +0000 UTC   \n",
       "393   493    Black Car             CANCELED  2015-07-16 22:01:52 +0000 UTC   \n",
       "395   493    Black Car            COMPLETED  2015-07-08 23:45:54 +0000 UTC   \n",
       "\n",
       "                   Begin Trip Time                   Dropoff Time  \\\n",
       "0    2022-02-12 22:53:50 +0000 UTC  2022-02-12 23:16:50 +0000 UTC   \n",
       "1    2022-01-15 22:45:41 +0000 UTC  2022-01-15 22:59:23 +0000 UTC   \n",
       "2    2022-01-10 16:03:45 +0000 UTC  2022-01-10 16:10:47 +0000 UTC   \n",
       "3    2021-12-04 19:06:28 +0000 UTC  2021-12-04 19:21:31 +0000 UTC   \n",
       "4    1970-01-01 00:00:00 +0000 UTC  1970-01-01 00:00:00 +0000 UTC   \n",
       "..                             ...                            ...   \n",
       "390  2016-02-09 03:51:13 +0000 UTC  2016-02-09 03:56:48 +0000 UTC   \n",
       "391  2015-11-13 23:47:00 +0000 UTC  2015-11-14 00:09:18 +0000 UTC   \n",
       "392  2015-08-16 04:23:04 +0000 UTC  2015-08-16 04:34:35 +0000 UTC   \n",
       "393  1970-01-01 00:00:00 +0000 UTC  1970-01-01 00:00:00 +0000 UTC   \n",
       "395  2015-07-08 23:52:28 +0000 UTC  2015-07-09 00:03:57 +0000 UTC   \n",
       "\n",
       "     Distance (miles)  Fare Amount Fare Currency  \n",
       "0            5.985833        24.90           BRL  \n",
       "1            5.919458        19.92           BRL  \n",
       "2            1.378521         9.05           BRL  \n",
       "3            2.433708        16.91           BRL  \n",
       "4            0.000000         0.00           BRL  \n",
       "..                ...          ...           ...  \n",
       "390          1.475351        10.99           BRL  \n",
       "391          1.765607        17.00           BRL  \n",
       "392          3.444544        30.00           BRL  \n",
       "393          0.000000         0.00           BRL  \n",
       "395          1.604149        13.00           BRL  \n",
       "\n",
       "[354 rows x 9 columns]"
      ]
     },
     "execution_count": 6,
     "metadata": {},
     "output_type": "execute_result"
    }
   ],
   "source": [
    "trips = df[df['Trip or Order Status'] != 'UNFULFILLED']\n",
    "trips = trips[~trips['Product Type'].isin(['Flash', 'UberEATS Marketplace', 'Green'])]\n",
    "trips"
   ]
  },
  {
   "cell_type": "markdown",
   "id": "b3489320",
   "metadata": {},
   "source": [
    "Okay, let's start working with some trips then. How many were cancelled?"
   ]
  },
  {
   "cell_type": "code",
   "execution_count": 7,
   "id": "4039792b",
   "metadata": {},
   "outputs": [
    {
     "name": "stdout",
     "output_type": "stream",
     "text": [
      "Total Trips:  354\n",
      "Canceled Trips:  64\n",
      "Ratio:  0.1807909604519774\n"
     ]
    }
   ],
   "source": [
    "total_trips = len(trips)\n",
    "print('Total Trips: ', len(trips))\n",
    "cancelled_trips = trips[trips['Trip or Order Status'].isin(['CANCELED', 'DRIVER_CANCELED'])]\n",
    "print('Canceled Trips: ', len(cancelled_trips))\n",
    "print('Ratio: ', len(cancelled_trips)/total_trips)"
   ]
  },
  {
   "cell_type": "markdown",
   "id": "89a00711",
   "metadata": {},
   "source": [
    "How many were in BRL? How many weren't?"
   ]
  },
  {
   "cell_type": "code",
   "execution_count": 8,
   "id": "eca7d5bc",
   "metadata": {},
   "outputs": [
    {
     "name": "stdout",
     "output_type": "stream",
     "text": [
      "Trips in BRL:  351\n"
     ]
    },
    {
     "data": {
      "text/html": [
       "<div>\n",
       "<style scoped>\n",
       "    .dataframe tbody tr th:only-of-type {\n",
       "        vertical-align: middle;\n",
       "    }\n",
       "\n",
       "    .dataframe tbody tr th {\n",
       "        vertical-align: top;\n",
       "    }\n",
       "\n",
       "    .dataframe thead th {\n",
       "        text-align: right;\n",
       "    }\n",
       "</style>\n",
       "<table border=\"1\" class=\"dataframe\">\n",
       "  <thead>\n",
       "    <tr style=\"text-align: right;\">\n",
       "      <th></th>\n",
       "      <th>City</th>\n",
       "      <th>Product Type</th>\n",
       "      <th>Trip or Order Status</th>\n",
       "      <th>Request Time</th>\n",
       "      <th>Begin Trip Time</th>\n",
       "      <th>Dropoff Time</th>\n",
       "      <th>Distance (miles)</th>\n",
       "      <th>Fare Amount</th>\n",
       "      <th>Fare Currency</th>\n",
       "    </tr>\n",
       "  </thead>\n",
       "  <tbody>\n",
       "    <tr>\n",
       "      <th>185</th>\n",
       "      <td>471</td>\n",
       "      <td>UberX</td>\n",
       "      <td>COMPLETED</td>\n",
       "      <td>2019-07-26 21:05:35 +0000 UTC</td>\n",
       "      <td>2019-07-26 21:06:57 +0000 UTC</td>\n",
       "      <td>2019-07-26 21:15:08 +0000 UTC</td>\n",
       "      <td>3.147325</td>\n",
       "      <td>10.57</td>\n",
       "      <td>EUR</td>\n",
       "    </tr>\n",
       "    <tr>\n",
       "      <th>187</th>\n",
       "      <td>37</td>\n",
       "      <td>UberX</td>\n",
       "      <td>COMPLETED</td>\n",
       "      <td>2019-07-26 05:14:11 +0000 UTC</td>\n",
       "      <td>2019-07-26 05:21:19 +0000 UTC</td>\n",
       "      <td>2019-07-26 05:31:20 +0000 UTC</td>\n",
       "      <td>2.788057</td>\n",
       "      <td>9.11</td>\n",
       "      <td>EUR</td>\n",
       "    </tr>\n",
       "    <tr>\n",
       "      <th>188</th>\n",
       "      <td>37</td>\n",
       "      <td>UberX</td>\n",
       "      <td>COMPLETED</td>\n",
       "      <td>2019-07-24 22:43:12 +0000 UTC</td>\n",
       "      <td>2019-07-24 22:48:16 +0000 UTC</td>\n",
       "      <td>2019-07-24 23:07:25 +0000 UTC</td>\n",
       "      <td>9.949842</td>\n",
       "      <td>27.80</td>\n",
       "      <td>EUR</td>\n",
       "    </tr>\n",
       "  </tbody>\n",
       "</table>\n",
       "</div>"
      ],
      "text/plain": [
       "     City Product Type Trip or Order Status                   Request Time  \\\n",
       "185   471        UberX            COMPLETED  2019-07-26 21:05:35 +0000 UTC   \n",
       "187    37        UberX            COMPLETED  2019-07-26 05:14:11 +0000 UTC   \n",
       "188    37        UberX            COMPLETED  2019-07-24 22:43:12 +0000 UTC   \n",
       "\n",
       "                   Begin Trip Time                   Dropoff Time  \\\n",
       "185  2019-07-26 21:06:57 +0000 UTC  2019-07-26 21:15:08 +0000 UTC   \n",
       "187  2019-07-26 05:21:19 +0000 UTC  2019-07-26 05:31:20 +0000 UTC   \n",
       "188  2019-07-24 22:48:16 +0000 UTC  2019-07-24 23:07:25 +0000 UTC   \n",
       "\n",
       "     Distance (miles)  Fare Amount Fare Currency  \n",
       "185          3.147325        10.57           EUR  \n",
       "187          2.788057         9.11           EUR  \n",
       "188          9.949842        27.80           EUR  "
      ]
     },
     "execution_count": 8,
     "metadata": {},
     "output_type": "execute_result"
    }
   ],
   "source": [
    "brl_trips = trips[trips['Fare Currency'] == 'BRL']\n",
    "print('Trips in BRL: ', len(brl_trips))\n",
    "non_brl_trips = trips[trips['Fare Currency'] != 'BRL']\n",
    "non_brl_trips"
   ]
  },
  {
   "cell_type": "markdown",
   "id": "eaeb0d99",
   "metadata": {},
   "source": [
    "Just EUR when not BRL. How much was spent in each currency?"
   ]
  },
  {
   "cell_type": "code",
   "execution_count": 9,
   "id": "18192965",
   "metadata": {},
   "outputs": [
    {
     "name": "stdout",
     "output_type": "stream",
     "text": [
      "Total BRL:  3411.840000000003\n",
      "Total EUR:  47.480000000000004\n"
     ]
    }
   ],
   "source": [
    "total_brl = sum(brl_trips['Fare Amount'])\n",
    "print('Total BRL: ', total_brl)\n",
    "total_eur = sum(non_brl_trips['Fare Amount'])\n",
    "print('Total EUR: ', total_eur)"
   ]
  },
  {
   "cell_type": "markdown",
   "id": "06f319ce",
   "metadata": {},
   "source": [
    "What was the average Price per mile traveled in BRL?"
   ]
  },
  {
   "cell_type": "code",
   "execution_count": 10,
   "id": "c70852c0",
   "metadata": {},
   "outputs": [
    {
     "name": "stdout",
     "output_type": "stream",
     "text": [
      "Average Price Per Mile (BRL):  4.888270397850686\n"
     ]
    }
   ],
   "source": [
    "total_miles_brl = sum(brl_trips['Distance (miles)'])\n",
    "avg_price_per_mile = total_brl/total_miles_brl\n",
    "print('Average Price Per Mile (BRL): ', avg_price_per_mile)"
   ]
  },
  {
   "cell_type": "markdown",
   "id": "e1c52df9",
   "metadata": {},
   "source": [
    "Or in Price per KM, for the rest of the world:"
   ]
  },
  {
   "cell_type": "code",
   "execution_count": 11,
   "id": "9d72a4c5",
   "metadata": {},
   "outputs": [
    {
     "name": "stdout",
     "output_type": "stream",
     "text": [
      "Average Price Per Km (BRL):  3.0374379545967205\n"
     ]
    }
   ],
   "source": [
    "# 1 mile = 1.60934 km\n",
    "total_km_brl = total_miles_brl * 1.60934\n",
    "avg_price_per_km = total_brl/total_km_brl\n",
    "print('Average Price Per Km (BRL): ', avg_price_per_km)"
   ]
  },
  {
   "cell_type": "markdown",
   "id": "351507fb",
   "metadata": {},
   "source": [
    "**From now on all calculations will be done with the BRL trips as the EUR trips are not in relevant quantity**\n",
    "\n",
    "What is the average wait time per trip?"
   ]
  },
  {
   "cell_type": "code",
   "execution_count": 12,
   "id": "ac3d20c5",
   "metadata": {},
   "outputs": [
    {
     "name": "stdout",
     "output_type": "stream",
     "text": [
      "Average Wait Time:  0:05:45.121951\n"
     ]
    }
   ],
   "source": [
    "completed_trips = brl_trips[brl_trips['Trip or Order Status'] == 'COMPLETED']\n",
    "wait_times = []\n",
    "for trip in completed_trips.values:\n",
    "    wait_times.append((pd.to_datetime(trip[4][:-10])-pd.to_datetime(trip[3][:-10])).total_seconds())\n",
    "    \n",
    "print('Average Wait Time: ', datetime.timedelta(seconds=sum(wait_times)/len(wait_times)))"
   ]
  },
  {
   "cell_type": "markdown",
   "id": "5cf1456b",
   "metadata": {},
   "source": [
    "And the average time per trip?"
   ]
  },
  {
   "cell_type": "code",
   "execution_count": 14,
   "id": "ca023891",
   "metadata": {},
   "outputs": [
    {
     "name": "stdout",
     "output_type": "stream",
     "text": [
      "Average Trip Time:  0:11:16.222997\n"
     ]
    }
   ],
   "source": [
    "trip_times = []\n",
    "for trip in completed_trips.values:\n",
    "    trip_times.append((pd.to_datetime(trip[5][:-10])-pd.to_datetime(trip[4][:-10])).total_seconds())\n",
    "    \n",
    "print('Average Trip Time: ', datetime.timedelta(seconds=sum(trip_times)/len(trip_times)))"
   ]
  },
  {
   "cell_type": "code",
   "execution_count": null,
   "id": "e37ef287",
   "metadata": {},
   "outputs": [],
   "source": []
  }
 ],
 "metadata": {
  "kernelspec": {
   "display_name": "Python 3.9.6 64-bit",
   "language": "python",
   "name": "python396jvsc74a57bd0b0fa6594d8f4cbf19f97940f81e996739fb7646882a419484c72d19e05852a7e"
  },
  "language_info": {
   "codemirror_mode": {
    "name": "ipython",
    "version": 3
   },
   "file_extension": ".py",
   "mimetype": "text/x-python",
   "name": "python",
   "nbconvert_exporter": "python",
   "pygments_lexer": "ipython3",
   "version": "3.9.10"
  }
 },
 "nbformat": 4,
 "nbformat_minor": 5
}
